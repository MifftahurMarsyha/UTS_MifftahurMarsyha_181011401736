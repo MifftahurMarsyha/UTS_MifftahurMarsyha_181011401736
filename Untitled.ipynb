{
 "cells": [
  {
   "cell_type": "markdown",
   "id": "4931ec32",
   "metadata": {},
   "source": [
    "# UTS Sistem Penunjang Mifftahur Marsyha 181011401736"
   ]
  },
  {
   "cell_type": "markdown",
   "id": "6057bcf4",
   "metadata": {},
   "source": [
    "## Metode Weight Product"
   ]
  },
  {
   "cell_type": "markdown",
   "id": "c7b9b1ae",
   "metadata": {},
   "source": [
    "table alternatif Alfat=A Budi=B Cahya=C Denis=D Eggy=E\n",
    "\n",
    "Tabel Kriteria\n",
    "\n",
    "A1\n",
    "\n",
    "A2\n",
    "\n",
    "A3\n",
    "\n",
    "A4\n",
    "\n",
    "A5\n",
    "\n",
    "bobot\n",
    "\n",
    "3\n",
    "\n",
    "5 \n",
    "\n",
    "3 \n",
    "\n",
    "5 \n",
    "\n",
    "4"
   ]
  },
  {
   "cell_type": "code",
   "execution_count": 2,
   "id": "ebdee311",
   "metadata": {},
   "outputs": [
    {
     "ename": "SyntaxError",
     "evalue": "invalid syntax (Temp/ipykernel_16896/3332558851.py, line 8)",
     "output_type": "error",
     "traceback": [
      "\u001b[1;36m  File \u001b[1;32m\"C:\\Users\\user\\AppData\\Local\\Temp/ipykernel_16896/3332558851.py\"\u001b[1;36m, line \u001b[1;32m8\u001b[0m\n\u001b[1;33m    print(Jumlah {3}+{5}+{3}+{5}+{4} adalah {20}'.format(bil1,bil2,bil3,bil4,bil5))\u001b[0m\n\u001b[1;37m                 ^\u001b[0m\n\u001b[1;31mSyntaxError\u001b[0m\u001b[1;31m:\u001b[0m invalid syntax\n"
     ]
    }
   ],
   "source": [
    "bil1 = input('3:')\n",
    "bil2 = input('5:')\n",
    "bil3 = input('3:')\n",
    "bil4 = input('5:')\n",
    "bil5 = input('4:')\n",
    "\n",
    "Jumlah = float(bil1)+float(bil2)+float(bil3)+float(bil4)+float(bil5)\n",
    "print(Jumlah {3}+{5}+{3}+{5}+{4} adalah {20}'.format(bil1,bil2,bil3,bil4,bil5))"
   ]
  },
  {
   "cell_type": "code",
   "execution_count": null,
   "id": "ae72e873",
   "metadata": {},
   "outputs": [],
   "source": []
  }
 ],
 "metadata": {
  "kernelspec": {
   "display_name": "Python 3 (ipykernel)",
   "language": "python",
   "name": "python3"
  },
  "language_info": {
   "codemirror_mode": {
    "name": "ipython",
    "version": 3
   },
   "file_extension": ".py",
   "mimetype": "text/x-python",
   "name": "python",
   "nbconvert_exporter": "python",
   "pygments_lexer": "ipython3",
   "version": "3.8.8"
  }
 },
 "nbformat": 4,
 "nbformat_minor": 5
}
